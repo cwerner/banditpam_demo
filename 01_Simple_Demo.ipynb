{
 "cells": [
  {
   "cell_type": "markdown",
   "metadata": {},
   "source": [
    "# BanditPAM (Simple Demo)"
   ]
  },
  {
   "cell_type": "code",
   "execution_count": 11,
   "metadata": {},
   "outputs": [
    {
     "ename": "ImportError",
     "evalue": "dlopen(/Users/werner-ch/.pyenv/versions/3.9.9/envs/banditpam_demo/lib/python3.9/site-packages/banditpam.cpython-39-darwin.so, 2): Library not loaded: @loader_path/libsz.2.0.1.dylib\n  Referenced from: /Users/werner-ch/.pyenv/versions/3.9.9/envs/banditpam_demo/lib/python3.9/site-packages/banditpam.dylibs/libarmadillo.10.dylib\n  Reason: Incompatible library version: libarmadillo.10.dylib requires version 3.0.0 or later, but libsz.2.0.1.dylib provides version 2.0.0",
     "output_type": "error",
     "traceback": [
      "\u001b[1;31m---------------------------------------------------------------------------\u001b[0m",
      "\u001b[1;31mImportError\u001b[0m                               Traceback (most recent call last)",
      "Input \u001b[1;32mIn [11]\u001b[0m, in \u001b[0;36m<module>\u001b[1;34m\u001b[0m\n\u001b[1;32m----> 1\u001b[0m \u001b[38;5;28;01mfrom\u001b[39;00m \u001b[38;5;21;01mbanditpam\u001b[39;00m \u001b[38;5;28;01mimport\u001b[39;00m KMedoids\n\u001b[0;32m      2\u001b[0m \u001b[38;5;28;01mimport\u001b[39;00m \u001b[38;5;21;01mnumpy\u001b[39;00m \u001b[38;5;28;01mas\u001b[39;00m \u001b[38;5;21;01mnp\u001b[39;00m\n\u001b[0;32m      3\u001b[0m \u001b[38;5;28;01mimport\u001b[39;00m \u001b[38;5;21;01mmatplotlib\u001b[39;00m\u001b[38;5;21;01m.\u001b[39;00m\u001b[38;5;21;01mpyplot\u001b[39;00m \u001b[38;5;28;01mas\u001b[39;00m \u001b[38;5;21;01mplt\u001b[39;00m\n",
      "\u001b[1;31mImportError\u001b[0m: dlopen(/Users/werner-ch/.pyenv/versions/3.9.9/envs/banditpam_demo/lib/python3.9/site-packages/banditpam.cpython-39-darwin.so, 2): Library not loaded: @loader_path/libsz.2.0.1.dylib\n  Referenced from: /Users/werner-ch/.pyenv/versions/3.9.9/envs/banditpam_demo/lib/python3.9/site-packages/banditpam.dylibs/libarmadillo.10.dylib\n  Reason: Incompatible library version: libarmadillo.10.dylib requires version 3.0.0 or later, but libsz.2.0.1.dylib provides version 2.0.0"
     ]
    }
   ],
   "source": [
    "from banditpam import KMedoids\n",
    "import numpy as np\n",
    "import matplotlib.pyplot as plt"
   ]
  },
  {
   "cell_type": "code",
   "execution_count": 9,
   "metadata": {},
   "outputs": [
    {
     "name": "stdout",
     "output_type": "stream",
     "text": [
      "The autoreload extension is already loaded. To reload it, use:\n",
      "  %reload_ext autoreload\n"
     ]
    }
   ],
   "source": [
    "%matplotlib inline\n",
    "%load_ext autoreload\n",
    "%autoreload 2"
   ]
  },
  {
   "cell_type": "code",
   "execution_count": null,
   "metadata": {},
   "outputs": [],
   "source": [
    "\n",
    "# Generate data from a Gaussian Mixture Model with the given means:\n",
    "np.random.seed(0)\n",
    "n_per_cluster = 40\n",
    "means = np.array([[0,0], [-5,5], [5,5]])\n",
    "X = np.vstack([np.random.randn(n_per_cluster, 2) + mu for mu in means])\n",
    "\n",
    "# Fit the data with BanditPAM:\n",
    "kmed = KMedoids(n_medoids=3, algorithm=\"BanditPAM\")\n",
    "kmed.fit(X, 'L2')\n",
    "\n",
    "print(kmed.labels) # prints cluster assignments [0] * 40 + [1] * 40 + [2] * 40\n",
    "\n",
    "# Visualize the data and the medoids:\n",
    "for p_idx, point in enumerate(X):\n",
    "    if p_idx in map(int, kmed.medoids):\n",
    "        plt.scatter(X[p_idx, 0], X[p_idx, 1], color='red', s = 40)\n",
    "    else:\n",
    "        plt.scatter(X[p_idx, 0], X[p_idx, 1], color='blue', s = 10)\n",
    "\n",
    "plt.show()"
   ]
  }
 ],
 "metadata": {
  "kernelspec": {
   "display_name": "BanditPAM",
   "language": "python",
   "name": "banditpam_demo"
  },
  "language_info": {
   "codemirror_mode": {
    "name": "ipython",
    "version": 3
   },
   "file_extension": ".py",
   "mimetype": "text/x-python",
   "name": "python",
   "nbconvert_exporter": "python",
   "pygments_lexer": "ipython3",
   "version": "3.9.9"
  }
 },
 "nbformat": 4,
 "nbformat_minor": 4
}
