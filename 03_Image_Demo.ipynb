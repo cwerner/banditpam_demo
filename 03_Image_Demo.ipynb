{
 "cells": [
  {
   "cell_type": "markdown",
   "id": "5cc86775-d1ac-4709-a8bf-e4035684b99c",
   "metadata": {},
   "source": [
    "# BanditPAM (Image Demo)\n",
    "\n",
    "<img src='https://storage.googleapis.com/tfds-data/visualization/fig/imagenette-160px-v2-1.0.0.png' width='250'>"
   ]
  },
  {
   "cell_type": "code",
   "execution_count": 1,
   "id": "dc5441b8-8a63-4995-907d-a7558778fbe3",
   "metadata": {},
   "outputs": [],
   "source": [
    "from banditpam import KMedoids\n",
    "from sklearn.cluster import KMeans        # for comparison\n",
    "\n",
    "import numpy as np\n",
    "from pathlib import Path\n",
    "import matplotlib.pyplot as plt"
   ]
  },
  {
   "cell_type": "markdown",
   "id": "6bd60f2f-9e33-40b1-a101-79fb817cbe96",
   "metadata": {},
   "source": [
    "## Data preparation"
   ]
  },
  {
   "cell_type": "code",
   "execution_count": 14,
   "id": "6628c3d4-fe5c-4655-96dd-26051117cbf4",
   "metadata": {},
   "outputs": [
    {
     "name": "stdout",
     "output_type": "stream",
     "text": [
      "--2022-01-19 00:04:00--  https://s3.amazonaws.com/fast-ai-imageclas/imagenette2-160.tgz\n",
      "Resolving s3.amazonaws.com (s3.amazonaws.com)... 52.216.113.53\n",
      "Connecting to s3.amazonaws.com (s3.amazonaws.com)|52.216.113.53|:443... connected.\n",
      "HTTP request sent, awaiting response... 200 OK\n",
      "Length: 99003388 (94M) [application/x-tar]\n",
      "Saving to: ‘imagenette2-160.tgz’\n",
      "\n",
      "imagenette2-160.tgz 100%[===================>]  94.42M  10.7MB/s    in 9.5s    \n",
      "\n",
      "2022-01-19 00:04:10 (9.98 MB/s) - ‘imagenette2-160.tgz’ saved [99003388/99003388]\n",
      "\n"
     ]
    }
   ],
   "source": [
    "# download an image dataset\n",
    "! wget https://s3.amazonaws.com/fast-ai-imageclas/imagenette2-160.tgz"
   ]
  },
  {
   "cell_type": "code",
   "execution_count": 21,
   "id": "680cba3f-0216-40d3-b484-bd839f8ded2a",
   "metadata": {},
   "outputs": [],
   "source": [
    "# extract the dataset\n",
    "! tar xf imagenette2-160.tgz -C data/"
   ]
  },
  {
   "cell_type": "markdown",
   "id": "200a442a-506b-43d4-8c90-05b1e89c91e0",
   "metadata": {},
   "source": [
    "Example of one image from the dataset:  \n",
    "<img src='data/imagenette2-160/train/n01440764/ILSVRC2012_val_00000293.JPEG'>"
   ]
  },
  {
   "cell_type": "code",
   "execution_count": 2,
   "id": "83c9f4fe-2d2f-4ea8-b866-0bdad5575768",
   "metadata": {},
   "outputs": [],
   "source": [
    "files_basedir = Path('data') / 'imagenette2-160' / 'train' "
   ]
  },
  {
   "cell_type": "code",
   "execution_count": 3,
   "id": "e3f82c1e-8080-4bbb-8d2a-bf8673c666ba",
   "metadata": {},
   "outputs": [],
   "source": [
    "files = sorted(files_basedir.glob('n0*/*'))"
   ]
  },
  {
   "cell_type": "code",
   "execution_count": 4,
   "id": "2ec720ae-aec5-4cce-b0b8-ff0c63f3d511",
   "metadata": {},
   "outputs": [
    {
     "data": {
      "image/png": "[encoded data removed]",
      "text/plain": [
       "<PIL.JpegImagePlugin.JpegImageFile image mode=RGB size=80x60 at 0x7FF144F5BCD0>"
      ]
     },
     "metadata": {},
     "output_type": "display_data"
    }
   ],
   "source": [
    "from PIL import Image\n",
    "im = Image.open(files[1200])\n",
    "# reduce size further\n",
    "im.thumbnail((80,80), Image.ANTIALIAS)\n",
    "im.show()"
   ]
  },
  {
   "cell_type": "code",
   "execution_count": 5,
   "id": "19fbf72f-8e7f-4af1-961f-87164962c80b",
   "metadata": {},
   "outputs": [
    {
     "data": {
      "text/plain": [
       "(60, 80, 3)"
      ]
     },
     "execution_count": 5,
     "metadata": {},
     "output_type": "execute_result"
    }
   ],
   "source": [
    "# to array\n",
    "np.asarray(im).shape"
   ]
  },
  {
   "cell_type": "code",
   "execution_count": 6,
   "id": "a9cf9b93-b7ab-41f4-919b-e98feaf6f23c",
   "metadata": {},
   "outputs": [],
   "source": [
    "def crop_center(im, crop_width, crop_height):\n",
    "    img_width, img_height = im.size\n",
    "    return im.crop(((img_width - crop_width) // 2,\n",
    "                    (img_height - crop_height) // 2,\n",
    "                    (img_width + crop_width) // 2,\n",
    "                    (img_height + crop_height) // 2))"
   ]
  },
  {
   "cell_type": "code",
   "execution_count": 47,
   "id": "266540cd-4728-4bcc-93a4-537fe51f7a98",
   "metadata": {},
   "outputs": [],
   "source": [
    "def process(p: Path) -> np.ndarray:\n",
    "    \"\"\"load image and return flattened ndarray\"\"\"\n",
    "    im = Image.open(p)\n",
    "    #im.thumbnail((80,80), Image.ANTIALIAS)\n",
    "    im = crop_center(im, 80, 80)\n",
    "    flattened = np.asarray(im).ravel()\n",
    "    #if len(flattened) == 60*60:\n",
    "    return flattened"
   ]
  },
  {
   "cell_type": "code",
   "execution_count": 52,
   "id": "51d6b126-6bfc-4e7b-ad55-94b61c6a9d55",
   "metadata": {},
   "outputs": [],
   "source": [
    "raw = [process(f) for f in files]"
   ]
  },
  {
   "cell_type": "code",
   "execution_count": 53,
   "id": "5617defd-8f1e-4b2f-9782-9ff34e8dcc5f",
   "metadata": {},
   "outputs": [],
   "source": [
    "X = np.vstack([r for r in raw if len(r) == 80*80*3])[::10] # subsample by 10"
   ]
  },
  {
   "cell_type": "code",
   "execution_count": 54,
   "id": "63351530-15f0-4655-ad2a-435ba3be85e6",
   "metadata": {},
   "outputs": [
    {
     "data": {
      "text/plain": [
       "(930, 19200)"
      ]
     },
     "execution_count": 54,
     "metadata": {},
     "output_type": "execute_result"
    }
   ],
   "source": [
    "X.shape"
   ]
  },
  {
   "cell_type": "code",
   "execution_count": 55,
   "id": "6c12ad35-8cb0-490b-8618-3f6b1463b61d",
   "metadata": {},
   "outputs": [
    {
     "data": {
      "text/plain": [
       "array([9, 9, 3, 8, 4, 9, 8, 4, 4, 9, 3, 5, 1, 8, 1, 0, 8, 8, 9, 8, 8, 8,\n",
       "       8, 5, 1, 9, 9, 9, 9, 7, 3, 8, 7, 9, 3, 0, 1, 4, 9, 8, 9, 7, 0, 9,\n",
       "       8, 8, 7, 9, 5, 8, 3, 8, 9, 9, 9, 4, 0, 8, 9, 3, 5, 0, 8, 8, 4, 0,\n",
       "       3, 9, 6, 7, 9, 9, 1, 8, 6, 9, 8, 7, 1, 3, 9, 9, 8, 3, 0, 7, 8, 3,\n",
       "       8, 8, 9, 1, 0, 3, 3, 4, 0, 3, 7, 3, 7, 1, 6, 2, 6, 9, 7, 5, 3, 8,\n",
       "       3, 7, 5, 2, 8, 1, 7, 8, 8, 8, 2, 9, 5, 8, 8, 8, 2, 7, 5, 8, 3, 7,\n",
       "       5, 7, 4, 3, 8, 1, 7, 3, 0, 5, 5, 2, 3, 7, 8, 5, 3, 0, 3, 8, 5, 5,\n",
       "       8, 4, 9, 4, 8, 7, 7, 8, 1, 1, 9, 7, 7, 7, 7, 0, 7, 1, 8, 3, 7, 1,\n",
       "       3, 8, 3, 7, 1, 3, 8, 8, 7, 5, 5, 7, 5, 0, 3, 7, 3, 1, 0, 1, 6, 7,\n",
       "       2, 2, 2, 1, 6, 6, 8, 1, 8, 5, 0, 1, 4, 1, 9, 8, 5, 8, 0, 0, 8, 3,\n",
       "       8, 4, 5, 8, 7, 7, 8, 0, 0, 0, 0, 1, 0, 4, 0, 7, 0, 8, 8, 9, 1, 1,\n",
       "       0, 2, 1, 4, 1, 3, 2, 2, 0, 7, 6, 4, 4, 1, 5, 2, 0, 3, 4, 0, 1, 9,\n",
       "       1, 5, 1, 6, 2, 5, 1, 5, 5, 1, 2, 2, 1, 6, 1, 3, 4, 1, 1, 4, 3, 1,\n",
       "       1, 2, 6, 1, 5, 9, 3, 2, 9, 4, 2, 4, 5, 3, 7, 7, 5, 8, 5, 8, 1, 9,\n",
       "       7, 3, 0, 8, 4, 0, 0, 1, 0, 2, 5, 3, 8, 9, 0, 0, 1, 9, 2, 7, 0, 9,\n",
       "       3, 4, 1, 5, 4, 7, 1, 8, 7, 0, 9, 0, 8, 7, 7, 8, 9, 9, 9, 7, 9, 2,\n",
       "       6, 2, 6, 2, 3, 1, 9, 2, 3, 2, 3, 9, 0, 0, 7, 5, 3, 0, 9, 8, 2, 0,\n",
       "       7, 1, 7, 0, 8, 7, 0, 9, 8, 8, 8, 0, 0, 0, 2, 1, 4, 6, 4, 1, 9, 4,\n",
       "       9, 0, 0, 7, 4, 9, 6, 6, 4, 2, 0, 4, 1, 7, 7, 8, 4, 7, 9, 9, 4, 4,\n",
       "       9, 0, 9, 9, 4, 0, 0, 5, 9, 0, 4, 7, 9, 1, 9, 9, 9, 9, 0, 3, 4, 9,\n",
       "       4, 4, 7, 0, 8, 1, 0, 3, 0, 6, 3, 0, 9, 3, 0, 9, 0, 1, 4, 6, 6, 1,\n",
       "       4, 8, 1, 9, 9, 1, 0, 1, 6, 4, 9, 1, 3, 8, 1, 9, 4, 6, 7, 9, 9, 7,\n",
       "       7, 1, 1, 7, 7, 1, 9, 1, 6, 9, 7, 5, 7, 7, 7, 9, 1, 1, 7, 7, 9, 7,\n",
       "       4, 1, 5, 9, 8, 1, 0, 7, 3, 8, 5, 9, 7, 1, 9, 9, 7, 3, 4, 5, 5, 4,\n",
       "       1, 9, 1, 8, 9, 5, 1, 7, 4, 0, 8, 4, 4, 7, 9, 6, 5, 6, 9, 8, 2, 0,\n",
       "       4, 7, 2, 2, 3, 8, 9, 0, 6, 0, 1, 4, 6, 1, 0, 0, 3, 7, 6, 4, 3, 2,\n",
       "       4, 9, 2, 9, 5, 6, 7, 8, 0, 7, 0, 0, 0, 7, 1, 8, 0, 0, 1, 7, 5, 1,\n",
       "       0, 8, 1, 9, 8, 7, 1, 1, 7, 0, 0, 7, 0, 5, 0, 1, 9, 0, 3, 9, 8, 1,\n",
       "       3, 6, 3, 5, 8, 3, 7, 3, 5, 0, 0, 4, 4, 0, 8, 4, 0, 0, 0, 1, 4, 3,\n",
       "       3, 4, 7, 1, 1, 9, 0, 7, 0, 8, 9, 1, 1, 6, 8, 4, 5, 5, 7, 6, 8, 4,\n",
       "       1, 7, 7, 1, 1, 1, 1, 7, 9, 5, 9, 3, 9, 1, 2, 8, 0, 8, 9, 2, 5, 8,\n",
       "       9, 8, 8, 8, 5, 1, 5, 8, 5, 9, 0, 0, 6, 4, 5, 7, 6, 9, 0, 0, 2, 8,\n",
       "       6, 0, 4, 3, 7, 7, 7, 9, 0, 4, 9, 9, 5, 9, 4, 2, 9, 7, 7, 8, 1, 3,\n",
       "       9, 0, 7, 9, 0, 1, 9, 9, 0, 1, 1, 9, 6, 5, 9, 6, 0, 3, 2, 4, 8, 3,\n",
       "       6, 7, 2, 5, 4, 1, 5, 8, 5, 0, 4, 8, 6, 4, 8, 7, 5, 0, 4, 4, 2, 6,\n",
       "       2, 7, 5, 8, 9, 8, 0, 9, 8, 4, 8, 2, 9, 3, 2, 0, 4, 5, 4, 9, 6, 4,\n",
       "       0, 2, 2, 4, 0, 2, 9, 0, 5, 2, 8, 2, 4, 0, 7, 4, 7, 7, 1, 0, 2, 0,\n",
       "       8, 6, 0, 8, 7, 8, 5, 7, 8, 6, 9, 2, 8, 6, 7, 4, 9, 6, 0, 6, 4, 6,\n",
       "       3, 2, 2, 2, 2, 2, 0, 0, 9, 3, 2, 8, 2, 2, 0, 0, 6, 2, 0, 2, 0, 2,\n",
       "       2, 2, 0, 6, 0, 2, 6, 8, 6, 4, 0, 6, 2, 2, 9, 2, 2, 4, 2, 2, 4, 2,\n",
       "       2, 8, 4, 0, 2, 0, 2, 5, 6, 2, 9, 3, 6, 2, 1, 6, 6, 2, 2, 2, 4, 2,\n",
       "       0, 2, 3, 0, 9, 4, 2, 4, 0, 2, 8, 8, 2, 2, 3, 3, 0, 8, 2, 2, 2, 4,\n",
       "       6, 4, 6, 1, 0, 9], dtype=int32)"
      ]
     },
     "execution_count": 55,
     "metadata": {},
     "output_type": "execute_result"
    }
   ],
   "source": [
    "# Fit the data with KMeans (sklearn)\n",
    "kmean = KMeans(n_clusters=10)\n",
    "kmean.fit(X, 'L2')\n",
    "kmean.labels_"
   ]
  },
  {
   "cell_type": "code",
   "execution_count": 56,
   "id": "befa95fd-9538-4609-b71d-03b036f00d78",
   "metadata": {},
   "outputs": [
    {
     "data": {
      "text/plain": [
       "(10, 19200)"
      ]
     },
     "execution_count": 56,
     "metadata": {},
     "output_type": "execute_result"
    }
   ],
   "source": [
    "kmean.cluster_centers_.shape"
   ]
  },
  {
   "cell_type": "code",
   "execution_count": 70,
   "id": "91be2744-8f1f-42cc-baeb-96bb153435d3",
   "metadata": {},
   "outputs": [],
   "source": [
    "class_id = 0"
   ]
  },
  {
   "cell_type": "code",
   "execution_count": 71,
   "id": "f5f24c52-932c-4ccb-8eb6-173565f38e6a",
   "metadata": {},
   "outputs": [
    {
     "data": {
      "image/png": "[encoded data removed]",
      "text/plain": [
       "<PIL.Image.Image image mode=RGB size=80x80 at 0x7FF110537D90>"
      ]
     },
     "execution_count": 71,
     "metadata": {},
     "output_type": "execute_result"
    }
   ],
   "source": [
    "kmean.cluster_centers_\n",
    "Image.fromarray(np.uint8(kmean.cluster_centers_[class_id]).reshape((80,80,3)))"
   ]
  },
  {
   "cell_type": "markdown",
   "id": "a19b4e8c-d8dd-4421-b57a-b422e846efda",
   "metadata": {},
   "source": [
    "## K-Mediods"
   ]
  },
  {
   "cell_type": "code",
   "execution_count": 72,
   "id": "8a00c4fa-71d7-4c68-913e-1cc08ee67fc9",
   "metadata": {},
   "outputs": [],
   "source": [
    "# Fit the data with BanditPAM:\n",
    "kmed = KMedoids(n_medoids=10, algorithm=\"BanditPAM\")\n",
    "kmed.fit(X, 'L2')"
   ]
  },
  {
   "cell_type": "code",
   "execution_count": 73,
   "id": "ef29f602-ad26-4a77-9c7b-871fcd1707d2",
   "metadata": {},
   "outputs": [
    {
     "data": {
      "text/plain": [
       "array([851, 273, 889, 830, 637, 432, 883, 276, 837, 881], dtype=uint64)"
      ]
     },
     "execution_count": 73,
     "metadata": {},
     "output_type": "execute_result"
    }
   ],
   "source": [
    "kmed.medoids"
   ]
  },
  {
   "cell_type": "code",
   "execution_count": 74,
   "id": "5e7ca435-6c66-467e-85f9-0af39a2e9c4c",
   "metadata": {},
   "outputs": [
    {
     "data": {
      "image/png": "[encoded data removed]",
      "text/plain": [
       "<PIL.Image.Image image mode=RGB size=80x80 at 0x7FF110535AC0>"
      ]
     },
     "execution_count": 74,
     "metadata": {},
     "output_type": "execute_result"
    }
   ],
   "source": [
    "Image.fromarray(np.uint8(X[kmed.medoids[class_id]]).reshape((80,80,3)))"
   ]
  },
  {
   "cell_type": "code",
   "execution_count": null,
   "id": "df7ea54a-29d5-4676-8eb2-568edcae7e3d",
   "metadata": {},
   "outputs": [],
   "source": []
  }
 ],
 "metadata": {
  "kernelspec": {
   "display_name": "Python 3 (ipykernel)",
   "language": "python",
   "name": "python3"
  },
  "language_info": {
   "codemirror_mode": {
    "name": "ipython",
    "version": 3
   },
   "file_extension": ".py",
   "mimetype": "text/x-python",
   "name": "python",
   "nbconvert_exporter": "python",
   "pygments_lexer": "ipython3",
   "version": "3.8.10"
  }
 },
 "nbformat": 4,
 "nbformat_minor": 5
}
