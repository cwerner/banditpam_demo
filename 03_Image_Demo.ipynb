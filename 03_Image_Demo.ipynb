{
 "cells": [
  {
   "cell_type": "markdown",
   "id": "5cc86775-d1ac-4709-a8bf-e4035684b99c",
   "metadata": {},
   "source": [
    "# BanditPAM (Image Demo)\n",
    "\n",
    "<img src='https://storage.googleapis.com/tfds-data/visualization/fig/imagenette-160px-v2-1.0.0.png' width='250'>"
   ]
  },
  {
   "cell_type": "code",
   "execution_count": 5,
   "id": "dc5441b8-8a63-4995-907d-a7558778fbe3",
   "metadata": {},
   "outputs": [],
   "source": [
    "from banditpam import KMedoids\n",
    "from sklearn.cluster import KMeans        # for comparison\n",
    "from PIL import Image\n",
    "import numpy as np\n",
    "from pathlib import Path\n",
    "import matplotlib.pyplot as plt"
   ]
  },
  {
   "cell_type": "markdown",
   "id": "6bd60f2f-9e33-40b1-a101-79fb817cbe96",
   "metadata": {},
   "source": [
    "## Data preparation\n",
    "\n",
    "We use `imagenette`, a ten class subset of imagenet. The classes here are: tench, English springer, cassette player, chain saw, church, French horn, garbage truck, gas pump, golf ball, parachute"
   ]
  },
  {
   "cell_type": "code",
   "execution_count": 14,
   "id": "6628c3d4-fe5c-4655-96dd-26051117cbf4",
   "metadata": {},
   "outputs": [
    {
     "name": "stdout",
     "output_type": "stream",
     "text": [
      "--2022-01-19 00:04:00--  https://s3.amazonaws.com/fast-ai-imageclas/imagenette2-160.tgz\n",
      "Resolving s3.amazonaws.com (s3.amazonaws.com)... 52.216.113.53\n",
      "Connecting to s3.amazonaws.com (s3.amazonaws.com)|52.216.113.53|:443... connected.\n",
      "HTTP request sent, awaiting response... 200 OK\n",
      "Length: 99003388 (94M) [application/x-tar]\n",
      "Saving to: ‘imagenette2-160.tgz’\n",
      "\n",
      "imagenette2-160.tgz 100%[===================>]  94.42M  10.7MB/s    in 9.5s    \n",
      "\n",
      "2022-01-19 00:04:10 (9.98 MB/s) - ‘imagenette2-160.tgz’ saved [99003388/99003388]\n",
      "\n"
     ]
    }
   ],
   "source": [
    "# download an image dataset\n",
    "! wget https://s3.amazonaws.com/fast-ai-imageclas/imagenette2-160.tgz"
   ]
  },
  {
   "cell_type": "code",
   "execution_count": 21,
   "id": "680cba3f-0216-40d3-b484-bd839f8ded2a",
   "metadata": {},
   "outputs": [],
   "source": [
    "# extract the dataset\n",
    "! tar xf imagenette2-160.tgz -C data/"
   ]
  },
  {
   "cell_type": "markdown",
   "id": "200a442a-506b-43d4-8c90-05b1e89c91e0",
   "metadata": {},
   "source": [
    "Example of one image from the dataset:  \n",
    "<img src='data/imagenette2-160/train/n01440764/ILSVRC2012_val_00000293.JPEG'>"
   ]
  },
  {
   "cell_type": "code",
   "execution_count": 2,
   "id": "83c9f4fe-2d2f-4ea8-b866-0bdad5575768",
   "metadata": {},
   "outputs": [],
   "source": [
    "files_basedir = Path('data') / 'imagenette2-160' / 'train' "
   ]
  },
  {
   "cell_type": "code",
   "execution_count": 9,
   "id": "e3f82c1e-8080-4bbb-8d2a-bf8673c666ba",
   "metadata": {},
   "outputs": [],
   "source": [
    "files = sorted(files_basedir.glob('n0*/*.JPEG'))"
   ]
  },
  {
   "cell_type": "markdown",
   "id": "4f532775-4a9b-426f-86f8-9d1b471c3f3e",
   "metadata": {},
   "source": [
    "Some helper functions to process the images"
   ]
  },
  {
   "cell_type": "code",
   "execution_count": 10,
   "id": "a9cf9b93-b7ab-41f4-919b-e98feaf6f23c",
   "metadata": {},
   "outputs": [],
   "source": [
    "def crop_center(im, crop_width, crop_height):\n",
    "    img_width, img_height = im.size\n",
    "    return im.crop(((img_width - crop_width) // 2,\n",
    "                    (img_height - crop_height) // 2,\n",
    "                    (img_width + crop_width) // 2,\n",
    "                    (img_height + crop_height) // 2))"
   ]
  },
  {
   "cell_type": "code",
   "execution_count": 67,
   "id": "266540cd-4728-4bcc-93a4-537fe51f7a98",
   "metadata": {},
   "outputs": [],
   "source": [
    "def process(p: Path) -> np.ndarray:\n",
    "    \"\"\"load image, downscale, crop to 80x80, and return flattened ndarray\"\"\"\n",
    "    im = Image.open(p)\n",
    "    im = crop_center(im, 160, 160)\n",
    "    im.thumbnail((80,80), Image.ANTIALIAS)\n",
    "    flattened = np.asarray(im).ravel()\n",
    "    return flattened"
   ]
  },
  {
   "cell_type": "code",
   "execution_count": 68,
   "id": "51d6b126-6bfc-4e7b-ad55-94b61c6a9d55",
   "metadata": {},
   "outputs": [],
   "source": [
    "raw = [process(f) for f in files]"
   ]
  },
  {
   "cell_type": "code",
   "execution_count": 69,
   "id": "5617defd-8f1e-4b2f-9782-9ff34e8dcc5f",
   "metadata": {},
   "outputs": [],
   "source": [
    "X = np.vstack([r for r in raw if len(r) == 80*80*3])[::4] # subsample by 4"
   ]
  },
  {
   "cell_type": "code",
   "execution_count": 70,
   "id": "63351530-15f0-4655-ad2a-435ba3be85e6",
   "metadata": {},
   "outputs": [
    {
     "data": {
      "text/plain": [
       "(2324, 19200)"
      ]
     },
     "execution_count": 70,
     "metadata": {},
     "output_type": "execute_result"
    }
   ],
   "source": [
    "X.shape"
   ]
  },
  {
   "cell_type": "markdown",
   "id": "e4c4d19f-1034-4b2d-a604-d9273698ab3c",
   "metadata": {},
   "source": [
    "## KMeans"
   ]
  },
  {
   "cell_type": "code",
   "execution_count": 71,
   "id": "6c12ad35-8cb0-490b-8618-3f6b1463b61d",
   "metadata": {},
   "outputs": [
    {
     "data": {
      "text/plain": [
       "KMeans(n_clusters=10)"
      ]
     },
     "execution_count": 71,
     "metadata": {},
     "output_type": "execute_result"
    }
   ],
   "source": [
    "# Fit the data with KMeans (sklearn)\n",
    "kmean = KMeans(n_clusters=10)\n",
    "kmean.fit(X, 'L2')\n",
    "#kmean.labels_"
   ]
  },
  {
   "cell_type": "markdown",
   "id": "a19b4e8c-d8dd-4421-b57a-b422e846efda",
   "metadata": {
    "tags": []
   },
   "source": [
    "## K-Mediods"
   ]
  },
  {
   "cell_type": "code",
   "execution_count": 72,
   "id": "8a00c4fa-71d7-4c68-913e-1cc08ee67fc9",
   "metadata": {},
   "outputs": [],
   "source": [
    "# Fit the data with BanditPAM:\n",
    "kmed = KMedoids(n_medoids=10, algorithm=\"BanditPAM\")\n",
    "kmed.fit(X, 'L2')\n",
    "#kmed.labels"
   ]
  },
  {
   "cell_type": "markdown",
   "id": "fc1d4248-c18e-4382-8868-9a0b426b1786",
   "metadata": {},
   "source": [
    "## Results \n",
    "Select a class id for demo purposes and compare cluster center/ medoid results"
   ]
  },
  {
   "cell_type": "code",
   "execution_count": 91,
   "id": "91be2744-8f1f-42cc-baeb-96bb153435d3",
   "metadata": {},
   "outputs": [],
   "source": [
    "class_id = 8"
   ]
  },
  {
   "cell_type": "code",
   "execution_count": 92,
   "id": "f5f24c52-932c-4ccb-8eb6-173565f38e6a",
   "metadata": {},
   "outputs": [
    {
     "data": {
      "image/png": "[encoded data removed]",
      "text/plain": [
       "<PIL.Image.Image image mode=RGB size=80x80 at 0x7F6DE10388B0>"
      ]
     },
     "execution_count": 92,
     "metadata": {},
     "output_type": "execute_result"
    }
   ],
   "source": [
    "Image.fromarray(np.uint8(kmean.cluster_centers_[class_id]).reshape((80,80,3)))"
   ]
  },
  {
   "cell_type": "code",
   "execution_count": 93,
   "id": "5e7ca435-6c66-467e-85f9-0af39a2e9c4c",
   "metadata": {},
   "outputs": [
    {
     "data": {
      "image/png": "[encoded data removed]",
      "text/plain": [
       "<PIL.Image.Image image mode=RGB size=80x80 at 0x7F6DE0F43AF0>"
      ]
     },
     "execution_count": 93,
     "metadata": {},
     "output_type": "execute_result"
    }
   ],
   "source": [
    "Image.fromarray(np.uint8(X[kmed.medoids[class_id]]).reshape((80,80,3)))"
   ]
  },
  {
   "cell_type": "code",
   "execution_count": null,
   "id": "ef29f602-ad26-4a77-9c7b-871fcd1707d2",
   "metadata": {},
   "outputs": [],
   "source": []
  },
  {
   "cell_type": "code",
   "execution_count": null,
   "id": "df7ea54a-29d5-4676-8eb2-568edcae7e3d",
   "metadata": {},
   "outputs": [],
   "source": []
  }
 ],
 "metadata": {
  "kernelspec": {
   "display_name": "Python 3 (ipykernel)",
   "language": "python",
   "name": "python3"
  },
  "language_info": {
   "codemirror_mode": {
    "name": "ipython",
    "version": 3
   },
   "file_extension": ".py",
   "mimetype": "text/x-python",
   "name": "python",
   "nbconvert_exporter": "python",
   "pygments_lexer": "ipython3",
   "version": "3.8.10"
  }
 },
 "nbformat": 4,
 "nbformat_minor": 5
}
